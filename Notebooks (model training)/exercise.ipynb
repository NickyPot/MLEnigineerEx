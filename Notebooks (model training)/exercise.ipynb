{
 "cells": [
  {
   "cell_type": "markdown",
   "id": "55f4776e-62c0-434a-88b2-8acb0ff67677",
   "metadata": {},
   "source": [
    "# Car price prediction Exercise \n",
    "\n",
    "This script trains a machine learning model to predict the car price in Spain based on the car type, age, fuel type, milege and gearbox type. When you run this python notebook, it will create and save the trained model in the directory. You can use this model in your final product.\n",
    "\n",
    "## Task\n",
    "Build a web interface/web application/API that predicts car prices based on user inputs include make, model year, fuel type, gear type, and mileage using a provided pre-trained machine learning model.\n",
    "\n",
    "## Requirements ##\n",
    "1. Load the pre-trained car price prediction model created by this python notebook.\n",
    "2. Create a web interface/web application/API that accepts the following user inputs: \n",
    "    1. Car make (e.g. BMW)  \n",
    "    2. Model year (e.g. 2018)  \n",
    "    3. Fuel type (e.g. Diesel)  \n",
    "    4. Transmission type (e.g. Manual)  \n",
    "    5. Mileage (e.g. 10000)  \n",
    "3. Pass the user inputs to the pre-trained model to generate a predicted car price  \n",
    "4. Display the predicted price back to the user\n",
    "\n",
    "## Guidelines ##\n",
    "1. Use any frontend (e.g. React, Vue), backend (e.g. Flask, FastAPI, node.JS), web application (Streamlit, Django) technologies\n",
    "2. Host the app locally, no need to deploy online\n",
    "3. Include code your Github repository for review\n",
    "4. Don't forget the README file and comments in your code!\n"
   ]
  },
  {
   "cell_type": "code",
   "execution_count": 266,
   "id": "0653fcde-c519-4e85-9bbe-cf8e33fb0ebd",
   "metadata": {},
   "outputs": [],
   "source": [
    "import pandas as pd\n",
    "import datetime\n",
    "from sklearn.preprocessing import OneHotEncoder\n",
    "from sklearn.model_selection import train_test_split\n",
    "from sklearn.ensemble import RandomForestRegressor\n",
    "from sklearn.metrics import mean_squared_error\n",
    "from sklearn.metrics import mean_absolute_error\n",
    "\n",
    "import pickle\n",
    "from sklearn.impute import SimpleImputer\n",
    "from sklearn.preprocessing import MinMaxScaler\n",
    "from sklearn.metrics import r2_score\n",
    "\n"
   ]
  },
  {
   "cell_type": "markdown",
   "id": "7226c208-3ecf-4121-9da8-ca96696b766b",
   "metadata": {},
   "source": [
    "## Data Ingestion"
   ]
  },
  {
   "cell_type": "code",
   "execution_count": 267,
   "id": "b8a5407c-3119-4290-bdf5-1443e351bbd6",
   "metadata": {},
   "outputs": [],
   "source": [
    "df = pd.read_csv(\"used_cars_data.csv\")"
   ]
  },
  {
   "cell_type": "code",
   "execution_count": 268,
   "id": "0a65f040-d86f-4d50-84b7-7e69788adcae",
   "metadata": {},
   "outputs": [
    {
     "name": "stdout",
     "output_type": "stream",
     "text": [
      "<class 'pandas.core.frame.DataFrame'>\n",
      "RangeIndex: 792 entries, 0 to 791\n",
      "Data columns (total 10 columns):\n",
      " #   Column         Non-Null Count  Dtype \n",
      "---  ------         --------------  ----- \n",
      " 0   Unnamed: 0     792 non-null    int64 \n",
      " 1   brand          792 non-null    object\n",
      " 2   model          792 non-null    object\n",
      " 3   price (eur)    792 non-null    int64 \n",
      " 4   engine         792 non-null    object\n",
      " 5   year           792 non-null    int64 \n",
      " 6   mileage (kms)  792 non-null    int64 \n",
      " 7   fuel           792 non-null    object\n",
      " 8   gearbox        792 non-null    object\n",
      " 9   location       792 non-null    object\n",
      "dtypes: int64(4), object(6)\n",
      "memory usage: 62.0+ KB\n"
     ]
    }
   ],
   "source": [
    "df.info()"
   ]
  },
  {
   "cell_type": "markdown",
   "id": "bdb6c16d-0b30-4cea-8650-72f7d5835d8f",
   "metadata": {},
   "source": [
    "## Data Preprocessing"
   ]
  },
  {
   "cell_type": "code",
   "execution_count": 269,
   "id": "fafe007b-b043-41d8-8006-a6de395a1cb3",
   "metadata": {},
   "outputs": [],
   "source": [
    "# One hot encoding for categorical features\n",
    "\n",
    "enc = OneHotEncoder(handle_unknown='ignore')"
   ]
  },
  {
   "cell_type": "code",
   "execution_count": 270,
   "id": "7f14dbbd-ae52-4572-b36f-07eecb964ea5",
   "metadata": {},
   "outputs": [],
   "source": [
    "X = df[['brand', 'fuel', 'gearbox']]"
   ]
  },
  {
   "cell_type": "code",
   "execution_count": 271,
   "id": "5523de84-a331-4e0a-8769-40c46dfe886d",
   "metadata": {},
   "outputs": [
    {
     "data": {
      "text/html": [
       "<style>#sk-container-id-12 {color: black;}#sk-container-id-12 pre{padding: 0;}#sk-container-id-12 div.sk-toggleable {background-color: white;}#sk-container-id-12 label.sk-toggleable__label {cursor: pointer;display: block;width: 100%;margin-bottom: 0;padding: 0.3em;box-sizing: border-box;text-align: center;}#sk-container-id-12 label.sk-toggleable__label-arrow:before {content: \"▸\";float: left;margin-right: 0.25em;color: #696969;}#sk-container-id-12 label.sk-toggleable__label-arrow:hover:before {color: black;}#sk-container-id-12 div.sk-estimator:hover label.sk-toggleable__label-arrow:before {color: black;}#sk-container-id-12 div.sk-toggleable__content {max-height: 0;max-width: 0;overflow: hidden;text-align: left;background-color: #f0f8ff;}#sk-container-id-12 div.sk-toggleable__content pre {margin: 0.2em;color: black;border-radius: 0.25em;background-color: #f0f8ff;}#sk-container-id-12 input.sk-toggleable__control:checked~div.sk-toggleable__content {max-height: 200px;max-width: 100%;overflow: auto;}#sk-container-id-12 input.sk-toggleable__control:checked~label.sk-toggleable__label-arrow:before {content: \"▾\";}#sk-container-id-12 div.sk-estimator input.sk-toggleable__control:checked~label.sk-toggleable__label {background-color: #d4ebff;}#sk-container-id-12 div.sk-label input.sk-toggleable__control:checked~label.sk-toggleable__label {background-color: #d4ebff;}#sk-container-id-12 input.sk-hidden--visually {border: 0;clip: rect(1px 1px 1px 1px);clip: rect(1px, 1px, 1px, 1px);height: 1px;margin: -1px;overflow: hidden;padding: 0;position: absolute;width: 1px;}#sk-container-id-12 div.sk-estimator {font-family: monospace;background-color: #f0f8ff;border: 1px dotted black;border-radius: 0.25em;box-sizing: border-box;margin-bottom: 0.5em;}#sk-container-id-12 div.sk-estimator:hover {background-color: #d4ebff;}#sk-container-id-12 div.sk-parallel-item::after {content: \"\";width: 100%;border-bottom: 1px solid gray;flex-grow: 1;}#sk-container-id-12 div.sk-label:hover label.sk-toggleable__label {background-color: #d4ebff;}#sk-container-id-12 div.sk-serial::before {content: \"\";position: absolute;border-left: 1px solid gray;box-sizing: border-box;top: 0;bottom: 0;left: 50%;z-index: 0;}#sk-container-id-12 div.sk-serial {display: flex;flex-direction: column;align-items: center;background-color: white;padding-right: 0.2em;padding-left: 0.2em;position: relative;}#sk-container-id-12 div.sk-item {position: relative;z-index: 1;}#sk-container-id-12 div.sk-parallel {display: flex;align-items: stretch;justify-content: center;background-color: white;position: relative;}#sk-container-id-12 div.sk-item::before, #sk-container-id-12 div.sk-parallel-item::before {content: \"\";position: absolute;border-left: 1px solid gray;box-sizing: border-box;top: 0;bottom: 0;left: 50%;z-index: -1;}#sk-container-id-12 div.sk-parallel-item {display: flex;flex-direction: column;z-index: 1;position: relative;background-color: white;}#sk-container-id-12 div.sk-parallel-item:first-child::after {align-self: flex-end;width: 50%;}#sk-container-id-12 div.sk-parallel-item:last-child::after {align-self: flex-start;width: 50%;}#sk-container-id-12 div.sk-parallel-item:only-child::after {width: 0;}#sk-container-id-12 div.sk-dashed-wrapped {border: 1px dashed gray;margin: 0 0.4em 0.5em 0.4em;box-sizing: border-box;padding-bottom: 0.4em;background-color: white;}#sk-container-id-12 div.sk-label label {font-family: monospace;font-weight: bold;display: inline-block;line-height: 1.2em;}#sk-container-id-12 div.sk-label-container {text-align: center;}#sk-container-id-12 div.sk-container {/* jupyter's `normalize.less` sets `[hidden] { display: none; }` but bootstrap.min.css set `[hidden] { display: none !important; }` so we also need the `!important` here to be able to override the default hidden behavior on the sphinx rendered scikit-learn.org. See: https://github.com/scikit-learn/scikit-learn/issues/21755 */display: inline-block !important;position: relative;}#sk-container-id-12 div.sk-text-repr-fallback {display: none;}</style><div id=\"sk-container-id-12\" class=\"sk-top-container\"><div class=\"sk-text-repr-fallback\"><pre>OneHotEncoder(handle_unknown=&#x27;ignore&#x27;)</pre><b>In a Jupyter environment, please rerun this cell to show the HTML representation or trust the notebook. <br />On GitHub, the HTML representation is unable to render, please try loading this page with nbviewer.org.</b></div><div class=\"sk-container\" hidden><div class=\"sk-item\"><div class=\"sk-estimator sk-toggleable\"><input class=\"sk-toggleable__control sk-hidden--visually\" id=\"sk-estimator-id-12\" type=\"checkbox\" checked><label for=\"sk-estimator-id-12\" class=\"sk-toggleable__label sk-toggleable__label-arrow\">OneHotEncoder</label><div class=\"sk-toggleable__content\"><pre>OneHotEncoder(handle_unknown=&#x27;ignore&#x27;)</pre></div></div></div></div></div>"
      ],
      "text/plain": [
       "OneHotEncoder(handle_unknown='ignore')"
      ]
     },
     "execution_count": 271,
     "metadata": {},
     "output_type": "execute_result"
    }
   ],
   "source": [
    "enc.fit(X)"
   ]
  },
  {
   "cell_type": "code",
   "execution_count": 272,
   "id": "5d6aa50b-2cdf-41d0-a09b-f2c8d2017416",
   "metadata": {},
   "outputs": [
    {
     "data": {
      "text/plain": [
       "[array(['Abarth', 'Alfa', 'Audi', 'BMW', 'Chevrolet', 'Citroen', 'Cupra',\n",
       "        'DS', 'Dacia', 'Fiat', 'Ford', 'Honda', 'Hyundai', 'Jaguar',\n",
       "        'Jeep', 'Kia', 'Land', 'Lexus', 'Mazda', 'Mercedes', 'Mini',\n",
       "        'Mitsubishi', 'Nissan', 'Opel', 'Peugeot', 'Porsche', 'Renault',\n",
       "        'SEAT', 'Skoda', 'Smart', 'Ssangyong', 'Subaru', 'Suzuki',\n",
       "        'Toyota', 'Volkswagen', 'Volvo'], dtype=object),\n",
       " array(['Diésel', 'Eléctrico', 'GLP', 'Gasolina', 'Híbrido'], dtype=object),\n",
       " array(['Automatica', 'Manual'], dtype=object)]"
      ]
     },
     "execution_count": 272,
     "metadata": {},
     "output_type": "execute_result"
    }
   ],
   "source": [
    "enc.categories_"
   ]
  },
  {
   "cell_type": "code",
   "execution_count": 273,
   "id": "78844488-a2d8-4218-85ac-28bdcbdb1f16",
   "metadata": {},
   "outputs": [
    {
     "data": {
      "text/plain": [
       "array([[0., 0., 0., ..., 0., 0., 1.],\n",
       "       [0., 0., 0., ..., 0., 0., 1.],\n",
       "       [0., 0., 0., ..., 0., 1., 0.],\n",
       "       ...,\n",
       "       [1., 0., 0., ..., 0., 0., 1.],\n",
       "       [0., 0., 0., ..., 0., 1., 0.],\n",
       "       [0., 0., 0., ..., 0., 0., 1.]])"
      ]
     },
     "execution_count": 273,
     "metadata": {},
     "output_type": "execute_result"
    }
   ],
   "source": [
    "enc.transform(df[['brand', 'fuel', 'gearbox']]).toarray()"
   ]
  },
  {
   "cell_type": "code",
   "execution_count": 274,
   "id": "44b6939f-defc-493a-be52-9d422a0b9e75",
   "metadata": {},
   "outputs": [],
   "source": [
    "X_features = pd.DataFrame(enc.transform(df[['brand', 'fuel', 'gearbox']]).toarray())"
   ]
  },
  {
   "cell_type": "code",
   "execution_count": 275,
   "id": "4b73ec31-7f46-445c-8873-30e3b0a8c37c",
   "metadata": {},
   "outputs": [],
   "source": [
    "# Feature transforming\n",
    "year = datetime.datetime.now().year"
   ]
  },
  {
   "cell_type": "code",
   "execution_count": 276,
   "id": "0585e831-3fdf-439b-9109-3a3e0cc6b3e3",
   "metadata": {},
   "outputs": [],
   "source": [
    "df['age'] = year-df['year']"
   ]
  },
  {
   "cell_type": "code",
   "execution_count": 277,
   "id": "79e364d4-8565-46ff-a0b4-c8ba31e07957",
   "metadata": {},
   "outputs": [],
   "source": [
    "X_num = df[['age', 'mileage (kms)']]\n",
    "y = df['price (eur)']"
   ]
  },
  {
   "cell_type": "code",
   "execution_count": 278,
   "id": "1e5ca089-f7cf-4250-a286-b73a244655de",
   "metadata": {},
   "outputs": [],
   "source": [
    "X = pd.concat([X_num, X_features], axis=1)"
   ]
  },
  {
   "cell_type": "code",
   "execution_count": 279,
   "id": "fb27fa05-81ec-4dc4-a161-c2d602571dbb",
   "metadata": {},
   "outputs": [
    {
     "data": {
      "text/plain": [
       "0     8990\n",
       "1     9990\n",
       "2    13490\n",
       "3    24990\n",
       "4    10460\n",
       "Name: price (eur), dtype: int64"
      ]
     },
     "execution_count": 279,
     "metadata": {},
     "output_type": "execute_result"
    }
   ],
   "source": [
    "y[:5]"
   ]
  },
  {
   "cell_type": "markdown",
   "id": "920429bf-2164-479e-baab-778cecd2d2bf",
   "metadata": {},
   "source": [
    "## Model Training"
   ]
  },
  {
   "cell_type": "code",
   "execution_count": 280,
   "id": "0ff4d5b5-c4f7-472c-acdf-9bae2e75eb85",
   "metadata": {},
   "outputs": [],
   "source": [
    "X_train, X_test, y_train, y_test = train_test_split(X, y, test_size=0.33, random_state=42)\n",
    "\n",
    "X_train.columns = X_train.columns.astype(str)\n",
    "X_test.columns = X_test.columns.astype(str)\n",
    "\n",
    "\n",
    "regr = RandomForestRegressor()\n",
    "\n",
    "regr.fit(X_train, y_train)\n",
    "\n",
    "y_pred = regr.predict(X_test)"
   ]
  },
  {
   "cell_type": "code",
   "execution_count": 281,
   "id": "e808a3c4",
   "metadata": {},
   "outputs": [
    {
     "data": {
      "text/html": [
       "<div>\n",
       "<style scoped>\n",
       "    .dataframe tbody tr th:only-of-type {\n",
       "        vertical-align: middle;\n",
       "    }\n",
       "\n",
       "    .dataframe tbody tr th {\n",
       "        vertical-align: top;\n",
       "    }\n",
       "\n",
       "    .dataframe thead th {\n",
       "        text-align: right;\n",
       "    }\n",
       "</style>\n",
       "<table border=\"1\" class=\"dataframe\">\n",
       "  <thead>\n",
       "    <tr style=\"text-align: right;\">\n",
       "      <th></th>\n",
       "      <th>age</th>\n",
       "      <th>mileage (kms)</th>\n",
       "      <th>0</th>\n",
       "      <th>1</th>\n",
       "      <th>2</th>\n",
       "      <th>3</th>\n",
       "      <th>4</th>\n",
       "      <th>5</th>\n",
       "      <th>6</th>\n",
       "      <th>7</th>\n",
       "      <th>...</th>\n",
       "      <th>33</th>\n",
       "      <th>34</th>\n",
       "      <th>35</th>\n",
       "      <th>36</th>\n",
       "      <th>37</th>\n",
       "      <th>38</th>\n",
       "      <th>39</th>\n",
       "      <th>40</th>\n",
       "      <th>41</th>\n",
       "      <th>42</th>\n",
       "    </tr>\n",
       "  </thead>\n",
       "  <tbody>\n",
       "    <tr>\n",
       "      <th>615</th>\n",
       "      <td>6</td>\n",
       "      <td>63202</td>\n",
       "      <td>0.0</td>\n",
       "      <td>0.0</td>\n",
       "      <td>0.0</td>\n",
       "      <td>0.0</td>\n",
       "      <td>0.0</td>\n",
       "      <td>0.0</td>\n",
       "      <td>0.0</td>\n",
       "      <td>0.0</td>\n",
       "      <td>...</td>\n",
       "      <td>0.0</td>\n",
       "      <td>0.0</td>\n",
       "      <td>0.0</td>\n",
       "      <td>0.0</td>\n",
       "      <td>0.0</td>\n",
       "      <td>0.0</td>\n",
       "      <td>1.0</td>\n",
       "      <td>0.0</td>\n",
       "      <td>1.0</td>\n",
       "      <td>0.0</td>\n",
       "    </tr>\n",
       "    <tr>\n",
       "      <th>18</th>\n",
       "      <td>5</td>\n",
       "      <td>69317</td>\n",
       "      <td>0.0</td>\n",
       "      <td>0.0</td>\n",
       "      <td>0.0</td>\n",
       "      <td>0.0</td>\n",
       "      <td>0.0</td>\n",
       "      <td>0.0</td>\n",
       "      <td>0.0</td>\n",
       "      <td>0.0</td>\n",
       "      <td>...</td>\n",
       "      <td>0.0</td>\n",
       "      <td>0.0</td>\n",
       "      <td>0.0</td>\n",
       "      <td>0.0</td>\n",
       "      <td>0.0</td>\n",
       "      <td>0.0</td>\n",
       "      <td>1.0</td>\n",
       "      <td>0.0</td>\n",
       "      <td>0.0</td>\n",
       "      <td>1.0</td>\n",
       "    </tr>\n",
       "    <tr>\n",
       "      <th>580</th>\n",
       "      <td>5</td>\n",
       "      <td>118548</td>\n",
       "      <td>0.0</td>\n",
       "      <td>0.0</td>\n",
       "      <td>0.0</td>\n",
       "      <td>0.0</td>\n",
       "      <td>0.0</td>\n",
       "      <td>0.0</td>\n",
       "      <td>0.0</td>\n",
       "      <td>0.0</td>\n",
       "      <td>...</td>\n",
       "      <td>0.0</td>\n",
       "      <td>0.0</td>\n",
       "      <td>0.0</td>\n",
       "      <td>0.0</td>\n",
       "      <td>0.0</td>\n",
       "      <td>1.0</td>\n",
       "      <td>0.0</td>\n",
       "      <td>0.0</td>\n",
       "      <td>0.0</td>\n",
       "      <td>1.0</td>\n",
       "    </tr>\n",
       "    <tr>\n",
       "      <th>722</th>\n",
       "      <td>12</td>\n",
       "      <td>124211</td>\n",
       "      <td>0.0</td>\n",
       "      <td>0.0</td>\n",
       "      <td>0.0</td>\n",
       "      <td>0.0</td>\n",
       "      <td>0.0</td>\n",
       "      <td>0.0</td>\n",
       "      <td>0.0</td>\n",
       "      <td>0.0</td>\n",
       "      <td>...</td>\n",
       "      <td>0.0</td>\n",
       "      <td>0.0</td>\n",
       "      <td>0.0</td>\n",
       "      <td>1.0</td>\n",
       "      <td>0.0</td>\n",
       "      <td>0.0</td>\n",
       "      <td>0.0</td>\n",
       "      <td>0.0</td>\n",
       "      <td>0.0</td>\n",
       "      <td>1.0</td>\n",
       "    </tr>\n",
       "    <tr>\n",
       "      <th>83</th>\n",
       "      <td>6</td>\n",
       "      <td>99658</td>\n",
       "      <td>0.0</td>\n",
       "      <td>0.0</td>\n",
       "      <td>0.0</td>\n",
       "      <td>0.0</td>\n",
       "      <td>0.0</td>\n",
       "      <td>0.0</td>\n",
       "      <td>0.0</td>\n",
       "      <td>0.0</td>\n",
       "      <td>...</td>\n",
       "      <td>1.0</td>\n",
       "      <td>0.0</td>\n",
       "      <td>0.0</td>\n",
       "      <td>0.0</td>\n",
       "      <td>0.0</td>\n",
       "      <td>0.0</td>\n",
       "      <td>0.0</td>\n",
       "      <td>1.0</td>\n",
       "      <td>1.0</td>\n",
       "      <td>0.0</td>\n",
       "    </tr>\n",
       "  </tbody>\n",
       "</table>\n",
       "<p>5 rows × 45 columns</p>\n",
       "</div>"
      ],
      "text/plain": [
       "     age  mileage (kms)    0    1    2    3    4    5    6    7  ...   33   \n",
       "615    6          63202  0.0  0.0  0.0  0.0  0.0  0.0  0.0  0.0  ...  0.0  \\\n",
       "18     5          69317  0.0  0.0  0.0  0.0  0.0  0.0  0.0  0.0  ...  0.0   \n",
       "580    5         118548  0.0  0.0  0.0  0.0  0.0  0.0  0.0  0.0  ...  0.0   \n",
       "722   12         124211  0.0  0.0  0.0  0.0  0.0  0.0  0.0  0.0  ...  0.0   \n",
       "83     6          99658  0.0  0.0  0.0  0.0  0.0  0.0  0.0  0.0  ...  1.0   \n",
       "\n",
       "      34   35   36   37   38   39   40   41   42  \n",
       "615  0.0  0.0  0.0  0.0  0.0  1.0  0.0  1.0  0.0  \n",
       "18   0.0  0.0  0.0  0.0  0.0  1.0  0.0  0.0  1.0  \n",
       "580  0.0  0.0  0.0  0.0  1.0  0.0  0.0  0.0  1.0  \n",
       "722  0.0  0.0  1.0  0.0  0.0  0.0  0.0  0.0  1.0  \n",
       "83   0.0  0.0  0.0  0.0  0.0  0.0  1.0  1.0  0.0  \n",
       "\n",
       "[5 rows x 45 columns]"
      ]
     },
     "execution_count": 281,
     "metadata": {},
     "output_type": "execute_result"
    }
   ],
   "source": [
    "X_train.head()"
   ]
  },
  {
   "cell_type": "markdown",
   "id": "0b0ee4f8-cc2d-45b2-b146-4d96a5447eaf",
   "metadata": {},
   "source": [
    "## Model Evaluation"
   ]
  },
  {
   "cell_type": "code",
   "execution_count": 282,
   "id": "032eec65-fefb-4cae-9180-d88498464155",
   "metadata": {},
   "outputs": [
    {
     "data": {
      "text/plain": [
       "4562.903455544323"
      ]
     },
     "execution_count": 282,
     "metadata": {},
     "output_type": "execute_result"
    }
   ],
   "source": [
    "errors = mean_squared_error(y_test, y_pred, squared=False)\n",
    "\n",
    "errors"
   ]
  },
  {
   "cell_type": "code",
   "execution_count": 283,
   "id": "9185bbce-e2e1-4de8-a264-78c2c797b022",
   "metadata": {},
   "outputs": [
    {
     "data": {
      "text/plain": [
       "3273.48893129771"
      ]
     },
     "execution_count": 283,
     "metadata": {},
     "output_type": "execute_result"
    }
   ],
   "source": [
    "errors2 = mean_absolute_error(y_test, y_pred)\n",
    "errors2"
   ]
  },
  {
   "cell_type": "code",
   "execution_count": 284,
   "id": "03b3b8ee",
   "metadata": {},
   "outputs": [
    {
     "data": {
      "text/plain": [
       "0.4821810697709207"
      ]
     },
     "execution_count": 284,
     "metadata": {},
     "output_type": "execute_result"
    }
   ],
   "source": [
    "r2_score(y_test, y_pred)\n"
   ]
  },
  {
   "cell_type": "markdown",
   "id": "7859ca8f-3d32-4395-9276-e572894dfd34",
   "metadata": {},
   "source": [
    "## Saving the model"
   ]
  },
  {
   "cell_type": "code",
   "execution_count": 285,
   "id": "43fcd27f-6849-48d6-9599-e654ac9eb059",
   "metadata": {},
   "outputs": [],
   "source": [
    "from joblib import dump, load\n",
    "\n",
    "dump(regr, 'model.joblib') \n",
    "\n",
    "\n",
    "with open(\"encoder\", \"wb\") as f: \n",
    "    pickle.dump(enc, f)"
   ]
  },
  {
   "cell_type": "code",
   "execution_count": 286,
   "id": "7299ca05-db81-4be6-83d7-41eaa578a0f6",
   "metadata": {},
   "outputs": [],
   "source": [
    "# To load the model for your product\n",
    "\n",
    "# regr = load('model.joblib') "
   ]
  }
 ],
 "metadata": {
  "kernelspec": {
   "display_name": "Python 3 (ipykernel)",
   "language": "python",
   "name": "python3"
  },
  "language_info": {
   "codemirror_mode": {
    "name": "ipython",
    "version": 3
   },
   "file_extension": ".py",
   "mimetype": "text/x-python",
   "name": "python",
   "nbconvert_exporter": "python",
   "pygments_lexer": "ipython3",
   "version": "3.9.7"
  }
 },
 "nbformat": 4,
 "nbformat_minor": 5
}
